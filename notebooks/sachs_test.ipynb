{
 "cells": [
  {
   "cell_type": "code",
   "execution_count": 9,
   "id": "856896ef-2ca3-4627-a184-81feb4463516",
   "metadata": {},
   "outputs": [],
   "source": [
    "import torch\n",
    "from torch_geometric.data import Dataset\n",
    "from pytorch_lightning import LightningDataModule\n",
    "import pandas as pd"
   ]
  },
  {
   "cell_type": "code",
   "execution_count": 6,
   "id": "df3c999f-78f5-4638-b4ad-fc44bf93e5ce",
   "metadata": {},
   "outputs": [],
   "source": [
    "class SachsDataset(Dataset):\n",
    "    def __init__(self, X, column_names, transform=None, pre_transform=None):\n",
    "        super().__init__(None, transform, pre_transform)\n",
    "        self.X = X\n",
    "        self.column_names = solumn_names\n",
    "        \n",
    "    \n",
    "    def __getitem__(self, index):\n",
    "        item = self.X[index]\n",
    "        return\n",
    "    \n",
    "    \n",
    "    def __len__(self):\n",
    "        return len(self.column_names)"
   ]
  },
  {
   "cell_type": "code",
   "execution_count": 10,
   "id": "47f39a4c-6200-43bc-860c-9995de5d40c0",
   "metadata": {},
   "outputs": [],
   "source": [
    "class SachsDataModule(LightningDataModule):\n",
    "    def __init__(\n",
    "        self,\n",
    "        data: str,\n",
    "        batch_size: int = 64,\n",
    "        num_workers: int = 0,\n",
    "        pin_memory: bool = False\n",
    "    ):\n",
    "        super().__init__()\n",
    "        \n",
    "        # this line allows to access init params with 'self.hparams' attribute\n",
    "        self.save_hyperparameters(logger=False)\n",
    "        \n",
    "        self.data = None\n",
    "        \n",
    "    \n",
    "    def load_data(self, path):\n",
    "        X = np.expand_dims(\n",
    "            np.loadtxt(\n",
    "                os.path.expanduser(path,\n",
    "                                   skiprows=1,\n",
    "                                   delimiter=\",\",\n",
    "                                   dtype=np.int32,\n",
    "                                  ),\n",
    "                2,\n",
    "            ))\n",
    "            \n",
    "        df_temp = pd.read_csv(os.path.expanduser(path))\n",
    "        column_names = df_temp.columns\n",
    "        \n",
    "        return SachsDataset(X=torch.FloatTensor(X), column_names=column_names)\n",
    "            \n",
    "    \n",
    "    def setup(self):\n",
    "        if not self.data:\n",
    "            self.data = self.load_data(path=self.hparams.data)\n",
    "            \n",
    "    \n",
    "    def dataloader(self):\n",
    "        return DataLoader(\n",
    "            data=self.data,\n",
    "            batch_size=self.hparams.batch_size,\n",
    "            num_workers=self.hparams.num_workers,\n",
    "            pin_memory=self.hparams.pin_memory\n",
    "        )"
   ]
  }
 ],
 "metadata": {
  "kernelspec": {
   "display_name": "Python 3 (ipykernel)",
   "language": "python",
   "name": "python3"
  },
  "language_info": {
   "codemirror_mode": {
    "name": "ipython",
    "version": 3
   },
   "file_extension": ".py",
   "mimetype": "text/x-python",
   "name": "python",
   "nbconvert_exporter": "python",
   "pygments_lexer": "ipython3",
   "version": "3.9.13"
  }
 },
 "nbformat": 4,
 "nbformat_minor": 5
}
